{
 "cells": [
  {
   "cell_type": "code",
   "execution_count": 1,
   "id": "40b0b4c9-90de-4088-801b-2344e536187d",
   "metadata": {},
   "outputs": [
    {
     "name": "stdout",
     "output_type": "stream",
     "text": [
      "Requirement already satisfied: pandas in e:\\anaconda\\lib\\site-packages (2.2.2)\n",
      "Requirement already satisfied: numpy>=1.26.0 in e:\\anaconda\\lib\\site-packages (from pandas) (1.26.4)\n",
      "Requirement already satisfied: python-dateutil>=2.8.2 in e:\\anaconda\\lib\\site-packages (from pandas) (2.9.0.post0)\n",
      "Requirement already satisfied: pytz>=2020.1 in e:\\anaconda\\lib\\site-packages (from pandas) (2024.1)\n",
      "Requirement already satisfied: tzdata>=2022.7 in e:\\anaconda\\lib\\site-packages (from pandas) (2023.3)\n",
      "Requirement already satisfied: six>=1.5 in e:\\anaconda\\lib\\site-packages (from python-dateutil>=2.8.2->pandas) (1.16.0)\n"
     ]
    }
   ],
   "source": [
    "!pip install pandas\n"
   ]
  },
  {
   "cell_type": "markdown",
   "id": "296522ad-506d-4ee8-893b-82fe7c38d0ef",
   "metadata": {},
   "source": [
    "#### Reading tables from simsons website\n"
   ]
  },
  {
   "cell_type": "code",
   "execution_count": 2,
   "id": "3c848b62-0994-4dc7-9090-29f2d8b010bc",
   "metadata": {},
   "outputs": [],
   "source": [
    "import pandas as pd"
   ]
  },
  {
   "cell_type": "code",
   "execution_count": 3,
   "id": "5ce19244-a26c-4825-9dcc-a65743860c97",
   "metadata": {},
   "outputs": [],
   "source": [
    "simsons = pd.read_html('https://en.wikipedia.org/wiki/List_of_The_Simpsons_episodes')"
   ]
  },
  {
   "cell_type": "code",
   "execution_count": 5,
   "id": "f360fb6b-f10b-4f65-a57f-08263c75d0cc",
   "metadata": {},
   "outputs": [
    {
     "data": {
      "text/plain": [
       "15"
      ]
     },
     "execution_count": 5,
     "metadata": {},
     "output_type": "execute_result"
    }
   ],
   "source": [
    "len(simsons)"
   ]
  },
  {
   "cell_type": "code",
   "execution_count": 6,
   "id": "a599b4c6-0e36-4e59-96c1-38687b78a8d1",
   "metadata": {},
   "outputs": [
    {
     "data": {
      "text/html": [
       "<div>\n",
       "<style scoped>\n",
       "    .dataframe tbody tr th:only-of-type {\n",
       "        vertical-align: middle;\n",
       "    }\n",
       "\n",
       "    .dataframe tbody tr th {\n",
       "        vertical-align: top;\n",
       "    }\n",
       "\n",
       "    .dataframe thead th {\n",
       "        text-align: right;\n",
       "    }\n",
       "</style>\n",
       "<table border=\"1\" class=\"dataframe\">\n",
       "  <thead>\n",
       "    <tr style=\"text-align: right;\">\n",
       "      <th></th>\n",
       "      <th>Title</th>\n",
       "      <th>Directed by</th>\n",
       "      <th>Written by</th>\n",
       "      <th>Original release date</th>\n",
       "    </tr>\n",
       "  </thead>\n",
       "  <tbody>\n",
       "    <tr>\n",
       "      <th>0</th>\n",
       "      <td>The Longest Daycare</td>\n",
       "      <td>David Silverman</td>\n",
       "      <td>James L. Brooks, Matt Groening, Al Jean, David...</td>\n",
       "      <td>July 13, 2012</td>\n",
       "    </tr>\n",
       "    <tr>\n",
       "      <th>1</th>\n",
       "      <td>Playdate with Destiny</td>\n",
       "      <td>David Silverman</td>\n",
       "      <td>Al Jean, Tom Gammill, Max Pross, James L. Broo...</td>\n",
       "      <td>March 6, 2020</td>\n",
       "    </tr>\n",
       "  </tbody>\n",
       "</table>\n",
       "</div>"
      ],
      "text/plain": [
       "                   Title      Directed by  \\\n",
       "0    The Longest Daycare  David Silverman   \n",
       "1  Playdate with Destiny  David Silverman   \n",
       "\n",
       "                                          Written by Original release date  \n",
       "0  James L. Brooks, Matt Groening, Al Jean, David...         July 13, 2012  \n",
       "1  Al Jean, Tom Gammill, Max Pross, James L. Broo...         March 6, 2020  "
      ]
     },
     "execution_count": 6,
     "metadata": {},
     "output_type": "execute_result"
    }
   ],
   "source": [
    "simsons[1]"
   ]
  }
 ],
 "metadata": {
  "kernelspec": {
   "display_name": "Python [conda env:base] *",
   "language": "python",
   "name": "conda-base-py"
  },
  "language_info": {
   "codemirror_mode": {
    "name": "ipython",
    "version": 3
   },
   "file_extension": ".py",
   "mimetype": "text/x-python",
   "name": "python",
   "nbconvert_exporter": "python",
   "pygments_lexer": "ipython3",
   "version": "3.12.7"
  }
 },
 "nbformat": 4,
 "nbformat_minor": 5
}
