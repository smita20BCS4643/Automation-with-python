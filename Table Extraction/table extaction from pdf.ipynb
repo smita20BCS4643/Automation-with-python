{
 "cells": [
  {
   "cell_type": "code",
   "execution_count": null,
   "id": "66e67db4",
   "metadata": {},
   "outputs": [],
   "source": [
    "import camelot"
   ]
  },
  {
   "cell_type": "code",
   "execution_count": null,
   "id": "752e5ee8",
   "metadata": {},
   "outputs": [],
   "source": [
    "tables = camelot.read_pdf(\"foo.pdf\",pages = '1')"
   ]
  },
  {
   "cell_type": "code",
   "execution_count": null,
   "id": "82e16be9",
   "metadata": {},
   "outputs": [],
   "source": [
    "tables.export('foo.csv', f='csv', compress =True)"
   ]
  },
  {
   "cell_type": "code",
   "execution_count": null,
   "id": "61241fd6",
   "metadata": {},
   "outputs": [],
   "source": [
    "tables[0].to_csv('foo.csv')"
   ]
  }
 ],
 "metadata": {
  "kernelspec": {
   "display_name": "base",
   "language": "python",
   "name": "python3"
  },
  "language_info": {
   "codemirror_mode": {
    "name": "ipython",
    "version": 3
   },
   "file_extension": ".py",
   "mimetype": "text/x-python",
   "name": "python",
   "nbconvert_exporter": "python",
   "pygments_lexer": "ipython3",
   "version": "3.12.7"
  }
 },
 "nbformat": 4,
 "nbformat_minor": 5
}
